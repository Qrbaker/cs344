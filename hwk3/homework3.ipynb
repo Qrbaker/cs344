{
 "cells": [
  {
   "cell_type": "markdown",
   "metadata": {
    "collapsed": true
   },
   "source": [
    "## Section 1\n",
    "In class, we discussed how the XOR function is a classic example of what a single perceptron with a linear activation function cannot solve. It turns out that in order to compute XOR, we need to start using *non-linear* functions.\n",
    "\n",
    "This problem is solvable, but requires additional tools. It can be solved using multi-layered networks, or with the addtion of *backpropigation*, a construct involving the use of linear algerbra to work back up the network from the result and adjust the weight at each node based on how the network travesed the gradient of the problem space.\n",
    "\n",
    "## Section 2\n",
    "Use Python/NumPy/Pandas/Keras to load and manipulate the Boston Housing Dataset as follows."
   ]
  },
  {
   "cell_type": "code",
   "execution_count": 1,
   "metadata": {},
   "outputs": [
    {
     "name": "stderr",
     "output_type": "stream",
     "text": [
      "Using TensorFlow backend.\n"
     ]
    }
   ],
   "source": [
    "# Import needed frameworks. Note that Tensorflow is automatically imported by Keras at this step.\n",
    "# Code based on usage example from https://keras.io/datasets/\n",
    "import matplotlib.pyplot as plt\n",
    "import numpy as np\n",
    "import pandas as pd\n",
    "from keras.datasets import boston_housing\n",
    "\n",
    "(x_train, y_train), (x_test, y_test) = boston_housing.load_data()"
   ]
  },
  {
   "cell_type": "markdown",
   "metadata": {},
   "source": [
    "**a.** Compute the dimensions of the data structures. Include code to print these values. "
   ]
  },
  {
   "cell_type": "code",
   "execution_count": 2,
   "metadata": {},
   "outputs": [
    {
     "name": "stdout",
     "output_type": "stream",
     "text": [
      "=== Training Data ===\n",
      "Demensions:\t2x1\n",
      "Size:\t\t5252(x), 404(y)\n",
      "X shape:\t (404, 13)\n",
      "Y shape:\t (404,)\n",
      "\n",
      "===== Test Data =====\n",
      "Demensions:\t2x1\n",
      "Size:\t\t1326(x), 102(y)\n",
      "X shape:\t (102, 13)\n",
      "Y shape:\t (102,)\n"
     ]
    }
   ],
   "source": [
    "print(\"=== Training Data ===\")\n",
    "print(\"Demensions:\\t%sx%s\" % (x_train.ndim, y_train.ndim))\n",
    "print(\"Size:\\t\\t%s(x), %s(y)\" % (x_train.size, y_train.size))\n",
    "print(\"X shape:\\t\",(x_train.shape))\n",
    "print(\"Y shape:\\t\",(y_train.shape))\n",
    "\n",
    "print(\"\\n===== Test Data =====\")\n",
    "print(\"Demensions:\\t%sx%s\" % (x_test.ndim, y_test.ndim))\n",
    "print(\"Size:\\t\\t%s(x), %s(y)\" % (x_test.size, y_test.size))\n",
    "print(\"X shape:\\t\",(x_test.shape))\n",
    "print(\"Y shape:\\t\",(y_test.shape))"
   ]
  },
  {
   "cell_type": "markdown",
   "metadata": {},
   "source": [
    "**b.** Construct a suitable testing set, training set, and validation set for this data. Submit code to create these datasets but do not include the datasets themselves. \n",
    "\n",
    "Given that the keras constructor for the boston_housing set is already split into training and testing, I will only need to create the validation set, which I'll do by splitting the test set:"
   ]
  },
  {
   "cell_type": "code",
   "execution_count": 3,
   "metadata": {},
   "outputs": [
    {
     "name": "stdout",
     "output_type": "stream",
     "text": [
      "Modified Test/Validation Data:\n",
      "x_val shape:\t (51, 13)\n",
      "y_val shape:\t (51,)\n"
     ]
    }
   ],
   "source": [
    "import math\n",
    "''' \n",
    "WARNING: Running this multiple times will repeatedly modify the sets.\n",
    "Be sure to re-run ALL cells if you re-run this section.\n",
    "'''\n",
    "x_val = x_test[0:51]\n",
    "x_test = x_test[51:]\n",
    "\n",
    "y_val = y_test[0:51]\n",
    "y_test = y_test[51:]\n",
    "\n",
    "print(\"Modified Test/Validation Data:\")\n",
    "print(\"x_val shape:\\t\", (x_val.shape))\n",
    "print(\"y_val shape:\\t\", (y_val.shape))"
   ]
  },
  {
   "cell_type": "markdown",
   "metadata": {},
   "source": [
    "**c.** Create one new synthetic feature that could be useful for machine learning in this domain. Explain what it is and why it might be useful, and submit code to add it to the dataset. \n",
    "\n",
    "Using the information from the [sckit page on this dataset][1], I was able to construct the data with labels for easier sythensizing. I plotted some variables together and noticed a correlation between crime and access to highways. I created a synthetic feature by dividing crime by the RAD feature to see if that would perhaps tease out more subtlties by emphasizing crime rate not near highways.\n",
    "\n",
    "[1]:https://scikit-learn.org/stable/datasets/index.html#boston-house-prices-dataset\n"
   ]
  },
  {
   "cell_type": "code",
   "execution_count": 4,
   "metadata": {},
   "outputs": [
    {
     "name": "stdout",
     "output_type": "stream",
     "text": [
      "['CRIM' 'ZN' 'INDUS' 'CHAS' 'NOX' 'RM' 'AGE' 'DIS' 'RAD' 'TAX' 'PTRATIO'\n",
      " 'B' 'LSTAT']\n"
     ]
    },
    {
     "data": {
      "text/html": [
       "<div>\n",
       "<style scoped>\n",
       "    .dataframe tbody tr th:only-of-type {\n",
       "        vertical-align: middle;\n",
       "    }\n",
       "\n",
       "    .dataframe tbody tr th {\n",
       "        vertical-align: top;\n",
       "    }\n",
       "\n",
       "    .dataframe thead th {\n",
       "        text-align: right;\n",
       "    }\n",
       "</style>\n",
       "<table border=\"1\" class=\"dataframe\">\n",
       "  <thead>\n",
       "    <tr style=\"text-align: right;\">\n",
       "      <th></th>\n",
       "      <th>CRIM</th>\n",
       "      <th>ZN</th>\n",
       "      <th>INDUS</th>\n",
       "      <th>CHAS</th>\n",
       "      <th>NOX</th>\n",
       "      <th>RM</th>\n",
       "      <th>AGE</th>\n",
       "      <th>DIS</th>\n",
       "      <th>RAD</th>\n",
       "      <th>TAX</th>\n",
       "      <th>PTRATIO</th>\n",
       "      <th>B</th>\n",
       "      <th>LSTAT</th>\n",
       "      <th>CRIMRAD</th>\n",
       "    </tr>\n",
       "  </thead>\n",
       "  <tbody>\n",
       "    <tr>\n",
       "      <th>501</th>\n",
       "      <td>0.06263</td>\n",
       "      <td>0.0</td>\n",
       "      <td>11.93</td>\n",
       "      <td>0.0</td>\n",
       "      <td>0.573</td>\n",
       "      <td>6.593</td>\n",
       "      <td>69.1</td>\n",
       "      <td>2.4786</td>\n",
       "      <td>1.0</td>\n",
       "      <td>273.0</td>\n",
       "      <td>21.0</td>\n",
       "      <td>391.99</td>\n",
       "      <td>9.67</td>\n",
       "      <td>0.06263</td>\n",
       "    </tr>\n",
       "    <tr>\n",
       "      <th>502</th>\n",
       "      <td>0.04527</td>\n",
       "      <td>0.0</td>\n",
       "      <td>11.93</td>\n",
       "      <td>0.0</td>\n",
       "      <td>0.573</td>\n",
       "      <td>6.120</td>\n",
       "      <td>76.7</td>\n",
       "      <td>2.2875</td>\n",
       "      <td>1.0</td>\n",
       "      <td>273.0</td>\n",
       "      <td>21.0</td>\n",
       "      <td>396.90</td>\n",
       "      <td>9.08</td>\n",
       "      <td>0.04527</td>\n",
       "    </tr>\n",
       "    <tr>\n",
       "      <th>503</th>\n",
       "      <td>0.06076</td>\n",
       "      <td>0.0</td>\n",
       "      <td>11.93</td>\n",
       "      <td>0.0</td>\n",
       "      <td>0.573</td>\n",
       "      <td>6.976</td>\n",
       "      <td>91.0</td>\n",
       "      <td>2.1675</td>\n",
       "      <td>1.0</td>\n",
       "      <td>273.0</td>\n",
       "      <td>21.0</td>\n",
       "      <td>396.90</td>\n",
       "      <td>5.64</td>\n",
       "      <td>0.06076</td>\n",
       "    </tr>\n",
       "    <tr>\n",
       "      <th>504</th>\n",
       "      <td>0.10959</td>\n",
       "      <td>0.0</td>\n",
       "      <td>11.93</td>\n",
       "      <td>0.0</td>\n",
       "      <td>0.573</td>\n",
       "      <td>6.794</td>\n",
       "      <td>89.3</td>\n",
       "      <td>2.3889</td>\n",
       "      <td>1.0</td>\n",
       "      <td>273.0</td>\n",
       "      <td>21.0</td>\n",
       "      <td>393.45</td>\n",
       "      <td>6.48</td>\n",
       "      <td>0.10959</td>\n",
       "    </tr>\n",
       "    <tr>\n",
       "      <th>505</th>\n",
       "      <td>0.04741</td>\n",
       "      <td>0.0</td>\n",
       "      <td>11.93</td>\n",
       "      <td>0.0</td>\n",
       "      <td>0.573</td>\n",
       "      <td>6.030</td>\n",
       "      <td>80.8</td>\n",
       "      <td>2.5050</td>\n",
       "      <td>1.0</td>\n",
       "      <td>273.0</td>\n",
       "      <td>21.0</td>\n",
       "      <td>396.90</td>\n",
       "      <td>7.88</td>\n",
       "      <td>0.04741</td>\n",
       "    </tr>\n",
       "  </tbody>\n",
       "</table>\n",
       "</div>"
      ],
      "text/plain": [
       "        CRIM   ZN  INDUS  CHAS    NOX     RM   AGE     DIS  RAD    TAX  \\\n",
       "501  0.06263  0.0  11.93   0.0  0.573  6.593  69.1  2.4786  1.0  273.0   \n",
       "502  0.04527  0.0  11.93   0.0  0.573  6.120  76.7  2.2875  1.0  273.0   \n",
       "503  0.06076  0.0  11.93   0.0  0.573  6.976  91.0  2.1675  1.0  273.0   \n",
       "504  0.10959  0.0  11.93   0.0  0.573  6.794  89.3  2.3889  1.0  273.0   \n",
       "505  0.04741  0.0  11.93   0.0  0.573  6.030  80.8  2.5050  1.0  273.0   \n",
       "\n",
       "     PTRATIO       B  LSTAT  CRIMRAD  \n",
       "501     21.0  391.99   9.67  0.06263  \n",
       "502     21.0  396.90   9.08  0.04527  \n",
       "503     21.0  396.90   5.64  0.06076  \n",
       "504     21.0  393.45   6.48  0.10959  \n",
       "505     21.0  396.90   7.88  0.04741  "
      ]
     },
     "execution_count": 4,
     "metadata": {},
     "output_type": "execute_result"
    },
    {
     "data": {
      "image/png": "[encoded data removed]",
      "text/plain": [
       "<Figure size 432x288 with 1 Axes>"
      ]
     },
     "metadata": {
      "needs_background": "light"
     },
     "output_type": "display_data"
    }
   ],
   "source": [
    "from sklearn.datasets import load_boston\n",
    "sk_data = load_boston().data\n",
    "sk_labels = load_boston().feature_names\n",
    "print(sk_labels)\n",
    "# Construct a Pandas DataFrame, using example from https://colab.research.google.com/notebooks/mlcc/intro_to_pandas.ipynb\n",
    "# Additional documentation from http://pandas.pydata.org/pandas-docs/stable/reference/api/pandas.DataFrame.html#pandas.DataFrame\n",
    "labeled_data = pd.DataFrame(data=sk_data, columns=sk_labels)\n",
    "\n",
    "labeled_data['CRIMRAD'] = labeled_data['CRIM'] / labeled_data['RAD']\n",
    "\n",
    "plt.plot(labeled_data['CRIMRAD'],'bo')\n",
    "\n",
    "labeled_data.tail()"
   ]
  },
  {
   "cell_type": "code",
   "execution_count": null,
   "metadata": {},
   "outputs": [],
   "source": []
  }
 ],
 "metadata": {
  "kernelspec": {
   "display_name": "Python 3",
   "language": "python",
   "name": "python3"
  },
  "language_info": {
   "codemirror_mode": {
    "name": "ipython",
    "version": 3
   },
   "file_extension": ".py",
   "mimetype": "text/x-python",
   "name": "python",
   "nbconvert_exporter": "python",
   "pygments_lexer": "ipython3",
   "version": "3.5.4"
  }
 },
 "nbformat": 4,
 "nbformat_minor": 1
}
