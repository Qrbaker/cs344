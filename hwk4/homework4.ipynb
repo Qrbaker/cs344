{
  "cells": [
    {
      "cell_type": "markdown",
      "metadata": {
        "collapsed": true,
        "pycharm": {
          "name": "#%% md\n"
        }
      },
      "source": "# Homework 4\nQuentin Baker\n\n## Problem 1\nDeep networks are already clearly on a different trajectory compared to perceptrons and expert systems. This is due to several important factors: modeling, data science, and connectivity. Our models are better -- perceptrons have given way to multi-level neural nets with non-linear activations, and can model successfully problems that stumped perceptrons, most famously the XOR. Data science has improved; we store more data and can access it faster, meaning its possible to train with larger sets. Third, and in my opinion most important, computers are now embedded in all sorts of things and producing meaningful data. We have access to sources of data that would have been unthinkable even a decade ago, and this is just the opening salvo. Regardless of opinion on this data collection, it is undisputable that it means a lot for NNs.\n\n## Problem 2\n![Page 1](Part2Page1.jpg)\n\n![Page 2](Part2Page2.jpg)\n\n## Problem 3"
    }
  ],
  "metadata": {
    "language_info": {
      "codemirror_mode": {
        "name": "ipython",
        "version": 2
      },
      "file_extension": ".py",
      "mimetype": "text/x-python",
      "name": "python",
      "nbconvert_exporter": "python",
      "pygments_lexer": "ipython2",
      "version": "2.7.6"
    },
    "kernelspec": {
      "name": "python3",
      "language": "python",
      "display_name": "Python 3"
    }
  },
  "nbformat": 4,
  "nbformat_minor": 0
}