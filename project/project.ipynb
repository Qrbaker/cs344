{
 "cells": [
  {
   "cell_type": "markdown",
   "metadata": {
    "collapsed": true
   },
   "source": [
    "For my ML project, I would like to apply *embedding* to historic stock market EOD data, procured via [Quandl][1]. I spesifically want to consider how embedding and similar ML classification tools are often not suitable for stock market analysis, and look at potential reasons why. I will make a best effort to produce an embedding network that, given historic training data, will select what it believes to be the best performing stock for the next period of length *n* (to be decided).\n",
    "\n",
    "I expect the network, given what I've researched online, will be a poor performer, and I want to look at possible causes and perhaps effective mitigations. ML and automated tools are used exensively for \"High-Frequency Trading\", making profits based on quickly snapping up stocks based on micro fluctuations, but are rarely used on a more macro level. I would like to use this project to develop a possible answer as to why this is the case.\n",
    "\n",
    "\n",
    "[1]:https://www.quandl.com/data/EOD-End-of-Day-US-Stock-Prices"
   ]
  },
  {
   "cell_type": "code",
   "execution_count": null,
   "metadata": {},
   "outputs": [],
   "source": []
  }
 ],
 "metadata": {
  "kernelspec": {
   "display_name": "Python 3",
   "language": "python",
   "name": "python3"
  },
  "language_info": {
   "codemirror_mode": {
    "name": "ipython",
    "version": 3
   },
   "file_extension": ".py",
   "mimetype": "text/x-python",
   "name": "python",
   "nbconvert_exporter": "python",
   "pygments_lexer": "ipython3",
   "version": "3.5.4"
  }
 },
 "nbformat": 4,
 "nbformat_minor": 1
}
