{
  "cells": [
    {
      "cell_type": "markdown",
      "source": "# Draft 1\nFor my ML project, I would like to apply *embedding* to historic stock market EOD data, procured via [Quandl][1]. I spesifically want to consider how embedding and similar ML classification tools are often not suitable for stock market analysis, and look at potential reasons why. I will make a best effort to produce an embedding network that, given historic training data, will select what it believes to be the best performing stock for the next period of length *n* (to be decided).\n\nI expect the network, given what I\u0027ve researched online, will be a poor performer, and I want to look at possible causes and perhaps effective mitigations. ML and automated tools are used exensively for \"High-Frequency Trading\", making profits based on quickly snapping up stocks based on micro fluctuations, but are rarely used on a more macro level. I would like to use this project to develop a possible answer as to why this is the case.\n\n[1]:https://www.quandl.com/data/EOD-End-of-Day-US-Stock-Prices\n",
      "metadata": {
        "pycharm": {
          "metadata": false,
          "name": "#%% md\n"
        }
      }
    },
    {
      "cell_type": "markdown",
      "source": "# Draft 2\n## Vision\nI seek to attempt building a basic clustering ML model that, given examples of historic stock data, can decide if an input stock will be a good or bad pick for an investor. **I expect to fail**. I am really interested in studying *why* most ML systems fail in the long run.\n\n## Background\nThe idea for this project came from an xkcd comic, #1570, titled **Engineer Syllogism**.\n![xkcd comic](https://imgs.xkcd.com/comics/engineer_syllogism.png)\n\nThis is a nice high-level explaination of a phenomenon I\u0027d like to explore more in depth--namely, that machine learning and AI have inherent design incompatibilities with the irrational human-driven behaviour of the stock market. [Not to say][1] [this hasn\u0027t been tried][2] [many, *many* times][3]. Finance quant and mathematical expert Zachary David had the following to say about Machine Learning in Markets:\n\n\u003eAcademic finance literature naively applying machine learning (ML) and artificial neural network (ANN) techniques to market price prediction is a dumb farce. While this probably won’t surprise anyone who has done a paper replication in the past 6+ years, despite all of the advancements in algorithms and hardware, and despite all of the new domains ANN’s have conquered, financial academics still insist on throwing feces at the wall. [[Source]][4]\n\n[1]:https://jspauld.com/post/35126549635/how-i-made-500k-with-machine-learning-and-hft#_\u003d_\n[2]:http://eugenezhulenev.com/blog/2014/11/14/stock-price-prediction-with-big-data-and-machine-learning/\n[3]:https://www.microsoft.com/developerblog/2017/12/04/predicting-stock-performance-deep-learning/\n[4]:http://zacharydavid.com/2017/08/06/fitting-to-noise-or-nothing-at-all-machine-learning-in-markets/\n\n## Implementation\nUsing data sourced from [quandl][5] and [eoddata][6], I will build a multi-layered RNN that will aim to cluster stocks based on unlabled input data. From there, the idea is to ask the model for stocks that resemble the performance of a stock like AAPL (Apple, Inc.) or COK (Coca-Cola). A successful model would be valuble to a \"value investor\" that wants to find un-appreciated stocks that they can take a long-term investment in.\n\n## Results\nTBD.\n\n## Implications\nIf I\u0027m successful, then I suppose I\u0027ll apply my model to the stock market and live off the income; maybe its heartless to say but I\u0027d be proven wrong in my assumtions and make a lot of money, so I\u0027d lock up my algorithm -- the main implication would be that most C.S. professionals should consider a new career.\n\nIn the more likely result of failure, I think the implications straddle the greater question of the scope and ultimate goals of A.I. Even though this will be a very small scale, and quickly implemented model, I imagine its performance can shed light on the greater use and reliance of trained computer models to run the systems of modern civilization.\n\n[5]:https://www.quandl.com/\n[6]:http://www.eoddata.com/default.aspx\n\n",
      "metadata": {
        "pycharm": {
          "metadata": false,
          "name": "#%% md\n"
        }
      }
    }
  ],
  "metadata": {
    "kernelspec": {
      "display_name": "Python 3",
      "language": "python",
      "name": "python3"
    },
    "language_info": {
      "codemirror_mode": {
        "name": "ipython",
        "version": 3
      },
      "file_extension": ".py",
      "mimetype": "text/x-python",
      "name": "python",
      "nbconvert_exporter": "python",
      "pygments_lexer": "ipython3",
      "version": "3.5.4"
    },
    "stem_cell": {
      "cell_type": "raw",
      "source": "",
      "metadata": {
        "pycharm": {
          "metadata": false
        }
      }
    }
  },
  "nbformat": 4,
  "nbformat_minor": 1
}