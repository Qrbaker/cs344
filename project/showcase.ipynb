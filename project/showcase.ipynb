{
 "cells": [
  {
   "cell_type": "markdown",
   "metadata": {
    "pycharm": {}
   },
   "source": [
    "Using the `stock_data_frame_builder.py` utility I created, I could massage all the stock data into one MASSIVE csv file \n",
    "(~800MB) that contains all stock data (for stocks with at least ~ 4 years of price data) from 1977-2017.\n",
    "\n",
    "Here's a sample, showing the data from AAPL (Apple Computers). We can create a simple boolean table and then use it to\n",
    "filter a new DataFrame containing only matching rows. "
   ]
  },
  {
   "cell_type": "code",
   "execution_count": 34,
   "metadata": {
    "pycharm": {}
   },
   "outputs": [],
   "source": [
    "LOOK_BACK = 500"
   ]
  },
  {
   "cell_type": "code",
   "execution_count": 35,
   "metadata": {
    "pycharm": {
     "is_executing": false,
     "metadata": false,
     "name": "#%%\n"
    },
    "scrolled": false
   },
   "outputs": [
    {
     "data": {
      "text/html": [
       "<div>\n",
       "<style scoped>\n",
       "    .dataframe tbody tr th:only-of-type {\n",
       "        vertical-align: middle;\n",
       "    }\n",
       "\n",
       "    .dataframe tbody tr th {\n",
       "        vertical-align: top;\n",
       "    }\n",
       "\n",
       "    .dataframe thead th {\n",
       "        text-align: right;\n",
       "    }\n",
       "</style>\n",
       "<table border=\"1\" class=\"dataframe\">\n",
       "  <thead>\n",
       "    <tr style=\"text-align: right;\">\n",
       "      <th></th>\n",
       "      <th>Open</th>\n",
       "      <th>High</th>\n",
       "      <th>Low</th>\n",
       "      <th>Close</th>\n",
       "      <th>Volume</th>\n",
       "    </tr>\n",
       "  </thead>\n",
       "  <tbody>\n",
       "    <tr>\n",
       "      <th>count</th>\n",
       "      <td>8364.000000</td>\n",
       "      <td>8364.000000</td>\n",
       "      <td>8364.000000</td>\n",
       "      <td>8364.000000</td>\n",
       "      <td>8.364000e+03</td>\n",
       "    </tr>\n",
       "    <tr>\n",
       "      <th>mean</th>\n",
       "      <td>22.284350</td>\n",
       "      <td>22.495867</td>\n",
       "      <td>22.054244</td>\n",
       "      <td>22.281018</td>\n",
       "      <td>1.066416e+08</td>\n",
       "    </tr>\n",
       "    <tr>\n",
       "      <th>std</th>\n",
       "      <td>37.763402</td>\n",
       "      <td>38.057733</td>\n",
       "      <td>37.447432</td>\n",
       "      <td>37.764469</td>\n",
       "      <td>9.935187e+07</td>\n",
       "    </tr>\n",
       "    <tr>\n",
       "      <th>min</th>\n",
       "      <td>0.233050</td>\n",
       "      <td>0.235640</td>\n",
       "      <td>0.230510</td>\n",
       "      <td>0.230510</td>\n",
       "      <td>0.000000e+00</td>\n",
       "    </tr>\n",
       "    <tr>\n",
       "      <th>25%</th>\n",
       "      <td>1.137100</td>\n",
       "      <td>1.164200</td>\n",
       "      <td>1.112800</td>\n",
       "      <td>1.137100</td>\n",
       "      <td>4.384365e+07</td>\n",
       "    </tr>\n",
       "    <tr>\n",
       "      <th>50%</th>\n",
       "      <td>1.632800</td>\n",
       "      <td>1.663400</td>\n",
       "      <td>1.600600</td>\n",
       "      <td>1.628250</td>\n",
       "      <td>7.481383e+07</td>\n",
       "    </tr>\n",
       "    <tr>\n",
       "      <th>75%</th>\n",
       "      <td>23.739000</td>\n",
       "      <td>23.930500</td>\n",
       "      <td>23.335750</td>\n",
       "      <td>23.694500</td>\n",
       "      <td>1.320534e+08</td>\n",
       "    </tr>\n",
       "    <tr>\n",
       "      <th>max</th>\n",
       "      <td>175.110000</td>\n",
       "      <td>175.610000</td>\n",
       "      <td>174.270000</td>\n",
       "      <td>175.610000</td>\n",
       "      <td>2.069770e+09</td>\n",
       "    </tr>\n",
       "  </tbody>\n",
       "</table>\n",
       "</div>"
      ],
      "text/plain": [
       "              Open         High          Low        Close        Volume\n",
       "count  8364.000000  8364.000000  8364.000000  8364.000000  8.364000e+03\n",
       "mean     22.284350    22.495867    22.054244    22.281018  1.066416e+08\n",
       "std      37.763402    38.057733    37.447432    37.764469  9.935187e+07\n",
       "min       0.233050     0.235640     0.230510     0.230510  0.000000e+00\n",
       "25%       1.137100     1.164200     1.112800     1.137100  4.384365e+07\n",
       "50%       1.632800     1.663400     1.600600     1.628250  7.481383e+07\n",
       "75%      23.739000    23.930500    23.335750    23.694500  1.320534e+08\n",
       "max     175.110000   175.610000   174.270000   175.610000  2.069770e+09"
      ]
     },
     "execution_count": 35,
     "metadata": {},
     "output_type": "execute_result"
    }
   ],
   "source": [
    "import pandas as pd\n",
    "\n",
    "stock_data = pd.read_csv(\"compiled_data.zip\", error_bad_lines=False, index_col=\"Date\", parse_dates=True)\n",
    "stock_data = stock_data.drop(columns='Unnamed: 0')  # Result of how to_csv saved the data.\n",
    "\n",
    "def select_stock(stock_ticker):\n",
    "    is_ticker = stock_data['ticker'] == stock_ticker\n",
    "    selected_stock = stock_data[is_ticker]\n",
    "    \n",
    "    return selected_stock\n",
    "\n",
    "apple_stock = select_stock('AAPL')\n",
    "apple_stock.describe()"
   ]
  },
  {
   "cell_type": "markdown",
   "metadata": {
    "pycharm": {}
   },
   "source": [
    "I checked my data visually to see if it looks good. If you plot End of Day (closing) price with Date, you will see a classic line chart of a stock that you might find on Yahoo finance or NASDAQ's site."
   ]
  },
  {
   "cell_type": "code",
   "execution_count": 18,
   "metadata": {
    "pycharm": {},
    "scrolled": false
   },
   "outputs": [
    {
     "data": {
      "text/plain": [
       "<matplotlib.axes._subplots.AxesSubplot at 0x2a455e36588>"
      ]
     },
     "execution_count": 18,
     "metadata": {},
     "output_type": "execute_result"
    },
    {
     "data": {
      "image/png": "[encoded data removed]",
      "text/plain": [
       "<Figure size 432x288 with 1 Axes>"
      ]
     },
     "metadata": {
      "needs_background": "light"
     },
     "output_type": "display_data"
    }
   ],
   "source": [
    "apple_stock.plot(y='Close',legend=False)"
   ]
  },
  {
   "cell_type": "markdown",
   "metadata": {
    "pycharm": {
     "metadata": false,
     "name": "#%% md\n"
    }
   },
   "source": [
    "Now, lets convert this data to something usable by keras. I'm going to use NumPy, as NumPy arrays are easily transferred\n",
    "into Keras structures. I will take 4/5ths of the data for training, and the remaining 1/5th will be for \n",
    "testing/validation.\n",
    "\n",
    "For a quick test, lets just focus on Closing price as a data point.\n",
    "\n"
   ]
  },
  {
   "cell_type": "code",
   "execution_count": 19,
   "metadata": {
    "pycharm": {
     "is_executing": false,
     "metadata": false,
     "name": "#%%\n"
    },
    "scrolled": true
   },
   "outputs": [
    {
     "name": "stdout",
     "output_type": "stream",
     "text": [
      "             Close\n",
      "Date              \n",
      "2011-03-16  42.261\n",
      "2011-03-17  42.854\n",
      "2011-03-18  42.346\n",
      "2011-03-21  43.452\n",
      "2011-03-22  43.696\n"
     ]
    }
   ],
   "source": [
    "def prep_stock_data(stock_df,stock_feature='Close'):\n",
    "\n",
    "    frame_split = int(round(len(stock_df.index)*(4/5)))\n",
    "\n",
    "    training_data = stock_df[stock_feature]\n",
    "    training_data = pd.DataFrame(training_data)\n",
    "\n",
    "    x_train_raw = training_data.iloc[:frame_split]\n",
    "    x_test_raw = training_data.iloc[frame_split:frame_split+LOOK_BACK*2] # This was found by trial and error\n",
    "\n",
    "    prepared_data = {\n",
    "        'x_train': x_train_raw,\n",
    "        'x_test': x_test_raw\n",
    "    }\n",
    "    \n",
    "    return prepared_data\n",
    "\n",
    "converted_stock_data = prep_stock_data(apple_stock)\n",
    "\n",
    "print(converted_stock_data['x_train'].tail())\n",
    "\n",
    "x_train_raw = converted_stock_data['x_train']\n",
    "x_test_raw = converted_stock_data['x_test']"
   ]
  },
  {
   "cell_type": "markdown",
   "metadata": {
    "pycharm": {}
   },
   "source": [
    "As Keras uses NumPy Arrays, I convert my Pandas Dataframes accordingly. Then, to make the data digestable by the `Sequential()` model, I re-shape my data to be one-dimensional nested arrays.\n",
    "\n",
    "The secret sauce here comes from [this excellent overview post][1]; though I've generalized it and I'm using a *much* larger dataset. The basic point of the `for` loop in the below code block is that I make my label a spesific single datapoint, and the input is the previous LOOK_BACK days of the same data.\n",
    "\n",
    "The NN will then attempt to build a network that can reliably predict the datapoint for X given that feed-in data.\n",
    "\n",
    "[1]:https://towardsdatascience.com/predicting-stock-price-with-lstm-13af86a74944"
   ]
  },
  {
   "cell_type": "code",
   "execution_count": 20,
   "metadata": {
    "pycharm": {},
    "scrolled": true
   },
   "outputs": [],
   "source": [
    "import numpy as np\n",
    "\n",
    "data_size = x_train_raw.shape[0]\n",
    "\n",
    "x_train_np = np.array(x_train_raw)\n",
    "\n",
    "x_train = []\n",
    "y_train = []\n",
    "\n",
    "for i in range (LOOK_BACK, data_size):\n",
    "    x_train.append(x_train_np[i-LOOK_BACK:i, 0])\n",
    "    y_train.append(x_train_np[i, 0])\n",
    "\n",
    "x_train, y_train = np.array(x_train), np.array(y_train)\n",
    "\n",
    "x_train = np.reshape(x_train, (x_train.shape[0], x_train.shape[1], 1))"
   ]
  },
  {
   "cell_type": "markdown",
   "metadata": {
    "pycharm": {}
   },
   "source": [
    "Now, at long last, we are ready to actually use some ML! I trained this set over 500 day's lookback data."
   ]
  },
  {
   "cell_type": "code",
   "execution_count": 24,
   "metadata": {
    "pycharm": {}
   },
   "outputs": [
    {
     "name": "stdout",
     "output_type": "stream",
     "text": [
      "Epoch 1/5\n",
      "6661/6661 [==============================] - 14s 2ms/step - loss: 22.5012\n",
      "Epoch 2/5\n",
      "6661/6661 [==============================] - 11s 2ms/step - loss: 5.5075\n",
      "Epoch 3/5\n",
      "6661/6661 [==============================] - 12s 2ms/step - loss: 3.2668\n",
      "Epoch 4/5\n",
      "6661/6661 [==============================] - 12s 2ms/step - loss: 2.7205: 0s - loss: 2.7\n",
      "Epoch 5/5\n",
      "6661/6661 [==============================] - 12s 2ms/step - loss: 2.7084\n"
     ]
    },
    {
     "data": {
      "text/plain": [
       "<keras.callbacks.History at 0x2a484d4d978>"
      ]
     },
     "execution_count": 24,
     "metadata": {},
     "output_type": "execute_result"
    }
   ],
   "source": [
    "from keras import models\n",
    "from keras import layers\n",
    "\n",
    "model = models.Sequential()\n",
    "\n",
    "#  LSTM Networks are repeatedly referred to as the best option for forward-looking predictions on Stocks\n",
    "#  See: - https://en.wikipedia.org/wiki/Long_short-term_memory\n",
    "#       - https://github.com/DarkKnight1991/Stock-Price-Prediction\n",
    "\n",
    "model.add(layers.LSTM(units = 100, return_sequences = True, input_shape = (x_train.shape[1], 1)))\n",
    "model.add(layers.LSTM(units = 75, return_sequences = True))\n",
    "model.add(layers.LSTM(units = 50))\n",
    "\n",
    "# I chose to normalize the data at this point, given how many inputs there are in the form of stock data (usually >1000!)\n",
    "model.add(layers.BatchNormalization())\n",
    "\n",
    "# This single output node should reflect a predicted price for Date(N) based on the previous LOOK_BACK number of datapoints.\n",
    "model.add(layers.Dense(units = 1))\n",
    "\n",
    "model.compile(optimizer = 'adam', loss = 'mean_squared_error')\n",
    "model.fit(x_train, y_train, epochs = 5, batch_size = 32)"
   ]
  },
  {
   "cell_type": "code",
   "execution_count": 25,
   "metadata": {
    "pycharm": {}
   },
   "outputs": [
    {
     "name": "stdout",
     "output_type": "stream",
     "text": [
      "<class 'pandas.core.frame.DataFrame'>\n",
      "RangeIndex: 30 entries, 0 to 29\n",
      "Data columns (total 1 columns):\n",
      "0    30 non-null float32\n",
      "dtypes: float32(1)\n",
      "memory usage: 200.0 bytes\n"
     ]
    }
   ],
   "source": [
    "def predict_on_data(dict_of_data, keras_model):\n",
    "    train_raw = dict_of_data['x_train']\n",
    "    test_raw = dict_of_data['x_test']\n",
    "    \n",
    "    test_data_size = test_raw.shape[0]\n",
    "    actuals = test_raw.values\n",
    "\n",
    "    combined_total = pd.concat((train_raw, test_raw), axis = 0)\n",
    "    validation_data = combined_total[combined_total.shape[0] - test_data_size - LOOK_BACK:].values\n",
    "\n",
    "\n",
    "    x_test_np = np.array(test_raw)\n",
    "    x_test = []\n",
    "\n",
    "    for i in range (LOOK_BACK, test_data_size):\n",
    "        x_test.append(validation_data[i-LOOK_BACK:i, 0])\n",
    "\n",
    "    x_test = np.array(x_test)\n",
    "    x_test = np.reshape(x_test, (x_test.shape[0], x_test.shape[1], 1))\n",
    "\n",
    "    return keras_model.predict(x_test)\n",
    "\n",
    "predictions = predict_on_data(converted_stock_data, model)\n",
    "predictions=pd.DataFrame(predictions)\n",
    "predictions.info()"
   ]
  },
  {
   "cell_type": "code",
   "execution_count": 26,
   "metadata": {
    "pycharm": {},
    "scrolled": false
   },
   "outputs": [
    {
     "data": {
      "image/png": "[encoded data removed]",
      "text/plain": [
       "<Figure size 432x288 with 1 Axes>"
      ]
     },
     "metadata": {
      "needs_background": "light"
     },
     "output_type": "display_data"
    }
   ],
   "source": [
    "import matplotlib.pyplot as plt\n",
    "plt.plot(converted_stock_data['x_test'].values, color = 'orange', label = 'AAPL - Actual')\n",
    "plt.plot(predictions, color = 'green', label = 'AAPL - Predicted')\n",
    "plt.title('AAPL Stock Predictions - 70 Days')\n",
    "plt.legend()\n",
    "\n",
    "# Limit Axes\n",
    "axes = plt.gca()\n",
    "axes.set_xlim([0,70])\n",
    "axes.set_ylim([40,46])\n",
    "plt.show()"
   ]
  },
  {
   "cell_type": "markdown",
   "metadata": {
    "pycharm": {}
   },
   "source": [
    "Hey, that's not bad! Maybe I was a little too harsh.\n",
    "\n",
    "Let's zoom out and see how the full prediction over 30 dates fared..."
   ]
  },
  {
   "cell_type": "code",
   "execution_count": 27,
   "metadata": {
    "pycharm": {},
    "scrolled": true
   },
   "outputs": [
    {
     "data": {
      "image/png": "[encoded data removed]",
      "text/plain": [
       "<Figure size 432x288 with 1 Axes>"
      ]
     },
     "metadata": {
      "needs_background": "light"
     },
     "output_type": "display_data"
    }
   ],
   "source": [
    "plt.plot(converted_stock_data['x_test'].values, color = 'orange', label = 'AAPL - Actual')\n",
    "plt.plot(predictions, color = 'green', label = 'AAPL - Predicted')\n",
    "plt.title('AAPL Predictions - 500 Days')\n",
    "plt.legend()\n",
    "\n",
    "axes = plt.gca()\n",
    "axes.set_xlim([0,500])\n",
    "axes.set_ylim([40,95])\n",
    "plt.show()"
   ]
  },
  {
   "cell_type": "markdown",
   "metadata": {
    "pycharm": {}
   },
   "source": [
    "Ah. So there is clearly some limitations here. \n",
    "\n",
    "---\n",
    "\n",
    "Say, how would a different stock do on this data?"
   ]
  },
  {
   "cell_type": "code",
   "execution_count": 28,
   "metadata": {
    "pycharm": {}
   },
   "outputs": [
    {
     "name": "stdout",
     "output_type": "stream",
     "text": [
      "<class 'pandas.core.frame.DataFrame'>\n",
      "RangeIndex: 30 entries, 0 to 29\n",
      "Data columns (total 1 columns):\n",
      "0    30 non-null float32\n",
      "dtypes: float32(1)\n",
      "memory usage: 200.0 bytes\n"
     ]
    }
   ],
   "source": [
    "ford_stock = select_stock('F')\n",
    "converted_ford_data = prep_stock_data(ford_stock)\n",
    "\n",
    "ford_predictions = predict_on_data(converted_ford_data, model)\n",
    "ford_predictions= pd.DataFrame(ford_predictions)\n",
    "ford_predictions.info()"
   ]
  },
  {
   "cell_type": "code",
   "execution_count": 29,
   "metadata": {},
   "outputs": [
    {
     "data": {
      "image/png": "[encoded data removed]",
      "text/plain": [
       "<Figure size 432x288 with 1 Axes>"
      ]
     },
     "metadata": {
      "needs_background": "light"
     },
     "output_type": "display_data"
    }
   ],
   "source": [
    "plt.plot(converted_ford_data['x_test'].values, color = 'red', label = 'F - Actual')\n",
    "plt.plot(ford_predictions, color = 'blue', label = 'F - Predicted')\n",
    "plt.title('F Predictions - 70 Days')\n",
    "plt.legend()\n",
    "\n",
    "# Limit Axes\n",
    "axes = plt.gca()\n",
    "axes.set_xlim([0,70])\n",
    "axes.set_ylim([4,8])\n",
    "plt.show()"
   ]
  },
  {
   "cell_type": "code",
   "execution_count": 30,
   "metadata": {},
   "outputs": [
    {
     "data": {
      "image/png": "[encoded data removed]",
      "text/plain": [
       "<Figure size 432x288 with 1 Axes>"
      ]
     },
     "metadata": {
      "needs_background": "light"
     },
     "output_type": "display_data"
    }
   ],
   "source": [
    "plt.plot(converted_ford_data['x_test'].values, color = 'red', label = 'F - Actual')\n",
    "plt.plot(ford_predictions, color = 'blue', label = 'F - Predicted')\n",
    "plt.title('F Predictions - 500 Days')\n",
    "plt.legend()\n",
    "\n",
    "# Limit Axes\n",
    "axes = plt.gca()\n",
    "axes.set_xlim([0,500])\n",
    "axes.set_ylim([4,15])\n",
    "plt.show()"
   ]
  },
  {
   "cell_type": "markdown",
   "metadata": {},
   "source": [
    "Woah! That's way better... I wonder why?"
   ]
  },
  {
   "cell_type": "code",
   "execution_count": 31,
   "metadata": {},
   "outputs": [
    {
     "name": "stdout",
     "output_type": "stream",
     "text": [
      "<class 'pandas.core.frame.DataFrame'>\n",
      "RangeIndex: 30 entries, 0 to 29\n",
      "Data columns (total 1 columns):\n",
      "0    30 non-null float32\n",
      "dtypes: float32(1)\n",
      "memory usage: 200.0 bytes\n"
     ]
    }
   ],
   "source": [
    "microsoft_stock = select_stock('MSFT')\n",
    "converted_microsoft_data = prep_stock_data(microsoft_stock)\n",
    "\n",
    "microsoft_predictions = predict_on_data(converted_microsoft_data, model)\n",
    "microsoft_predictions= pd.DataFrame(microsoft_predictions)\n",
    "microsoft_predictions.info()"
   ]
  },
  {
   "cell_type": "code",
   "execution_count": 32,
   "metadata": {},
   "outputs": [
    {
     "data": {
      "image/png": "[encoded data removed]",
      "text/plain": [
       "<Figure size 432x288 with 1 Axes>"
      ]
     },
     "metadata": {
      "needs_background": "light"
     },
     "output_type": "display_data"
    }
   ],
   "source": [
    "plt.plot(converted_microsoft_data['x_test'].values, color = 'black', label = 'MSFT - Actual')\n",
    "plt.plot(microsoft_predictions, color = 'pink', label = 'MSFT - Predicted')\n",
    "plt.title('MSFT Predictions - 70 Days')\n",
    "plt.legend()\n",
    "\n",
    "# Limit Axes\n",
    "axes = plt.gca()\n",
    "axes.set_xlim([0,70])\n",
    "axes.set_ylim([20,25])\n",
    "plt.show()"
   ]
  },
  {
   "cell_type": "code",
   "execution_count": 33,
   "metadata": {},
   "outputs": [
    {
     "data": {
      "image/png": "[encoded data removed]",
      "text/plain": [
       "<Figure size 432x288 with 1 Axes>"
      ]
     },
     "metadata": {
      "needs_background": "light"
     },
     "output_type": "display_data"
    }
   ],
   "source": [
    "plt.plot(converted_microsoft_data['x_test'].values, color = 'black', label = 'MSFT - Actual')\n",
    "plt.plot(microsoft_predictions, color = 'pink', label = 'MSFT - Predicted')\n",
    "plt.title('MSFT Predictions - 70 Days')\n",
    "plt.legend()\n",
    "\n",
    "# Limit Axes\n",
    "axes = plt.gca()\n",
    "axes.set_xlim([0,500])\n",
    "axes.set_ylim([20,32])\n",
    "plt.show()"
   ]
  }
 ],
 "metadata": {
  "kernelspec": {
   "display_name": "Python 3",
   "language": "python",
   "name": "python3"
  },
  "language_info": {
   "codemirror_mode": {
    "name": "ipython",
    "version": 3
   },
   "file_extension": ".py",
   "mimetype": "text/x-python",
   "name": "python",
   "nbconvert_exporter": "python",
   "pygments_lexer": "ipython3",
   "version": "3.5.4"
  },
  "stem_cell": {
   "cell_type": "raw",
   "metadata": {
    "pycharm": {
     "metadata": false
    }
   },
   "source": ""
  }
 },
 "nbformat": 4,
 "nbformat_minor": 1
}
