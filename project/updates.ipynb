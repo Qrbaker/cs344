{
  "cells": [
    {
      "cell_type": "markdown",
      "metadata": {
        "collapsed": true,
        "pycharm": {
          "name": "#%% md\n"
        }
      },
      "source": "### Updates following the walkthrough and in-class presentation\n\nAfter the walkthrough and presentation, I read through Keras.io and some additional blogs, and decided to add one \nadditional layer: A *dropout* layer.\n\nOld Network (Note: this pseudo-code a non-functional excerpt from `stock_model.py`):\n    self.model.add(layers.LSTM())\n    self.model.add(layers.LSTM())\n    self.model.add(layers.LSTM())\n    \n    self.model.add(layers.BatchNormalization())\n    self.model.add(layers.Dense(units\u003d1)\n    \nNew Network:\n\n    self.model.add(layers.LSTM())\n    self.model.add(layers.LSTM())\n    self.model.add(layers.LSTM())\n    self.model.add(layers.Dropout()) \u003c-- NEW LAYER\n    self.model.add(layers.BatchNormalization())\n    self.model.add(layers.Dense(units\u003d1)\n    \nThe addition of this dropout layer combines with the normalization to serve as an extra preventitive step against \noverfitting.\n"
    }
  ],
  "metadata": {
    "language_info": {
      "codemirror_mode": {
        "name": "ipython",
        "version": 2
      },
      "file_extension": ".py",
      "mimetype": "text/x-python",
      "name": "python",
      "nbconvert_exporter": "python",
      "pygments_lexer": "ipython2",
      "version": "2.7.6"
    },
    "kernelspec": {
      "name": "python3",
      "language": "python",
      "display_name": "Python 3"
    }
  },
  "nbformat": 4,
  "nbformat_minor": 0
}